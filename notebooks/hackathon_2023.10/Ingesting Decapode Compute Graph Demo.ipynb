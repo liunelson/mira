{
 "cells": [
  {
   "cell_type": "markdown",
   "id": "f85c96ee-8479-442e-af95-6333c3501503",
   "metadata": {},
   "source": [
    "## Load Modules"
   ]
  },
  {
   "cell_type": "code",
   "execution_count": 1,
   "id": "719f7849-352a-459e-94e2-96551dd59bcc",
   "metadata": {},
   "outputs": [],
   "source": [
    "%load_ext autoreload\n",
    "%autoreload 2\n",
    "\n",
    "import requests\n",
    "import json\n",
    "from mira.sources.acsets.decapodes import process_decapode\n",
    "from mira.metamodel.decapodes import Decapode"
   ]
  },
  {
   "cell_type": "markdown",
   "id": "042b7506-8bbd-45a5-b6ea-7b675b69df31",
   "metadata": {},
   "source": [
    "## We process three decapode compute graph examples\n",
    "\n",
    "These graph examples are in the form of JSON objects"
   ]
  },
  {
   "cell_type": "code",
   "execution_count": 5,
   "id": "79c47ffb-4845-434a-a939-981a1dd51d59",
   "metadata": {},
   "outputs": [],
   "source": [
    "oscillator_decapode = process_decapode(requests.get('https://raw.githubusercontent.com/gyorilab/mira/decapode_support/mira/examples/decapodes/decapodes_vs_decaexpr_composite/d1_oscillator_decapode.json').json())\n",
    "\n",
    "friction_decapode = process_decapode(requests.get('https://raw.githubusercontent.com/gyorilab/mira/decapode_support/mira/examples/decapodes/decapodes_vs_decaexpr_composite/d2_friction_decapode.json').json())\n",
    "\n",
    "ice_decapode = process_decapode(requests.get('https://raw.githubusercontent.com/ciemss/Decapodes.jl/sa_climate_modeling/examples/climate/ice_dynamics.json').json())"
   ]
  },
  {
   "cell_type": "markdown",
   "id": "b07df910-f1de-451f-8aaf-cbaee28e8c3a",
   "metadata": {},
   "source": [
    "## Decapode variables are built from a series of unary and binary operations \n",
    "\n",
    "We break down each variable into a sympy expression object that contains a series of unary and binary operations on base-level variables. Base level variables defined in this context are variables that are never the output of a unary or binary operation."
   ]
  },
  {
   "cell_type": "markdown",
   "id": "0a01517d-4316-42e8-a34a-48c64d601f0c",
   "metadata": {},
   "source": [
    "## Friction Decapode"
   ]
  },
  {
   "cell_type": "code",
   "execution_count": 10,
   "id": "2de75ea3-62d9-455c-862f-a40b2a95af7a",
   "metadata": {
    "scrolled": true
   },
   "outputs": [
    {
     "name": "stdout",
     "output_type": "stream",
     "text": [
      "1 | V |V\n",
      "2 | Q |Q\n",
      "3 | κ |κ\n",
      "4 | λ |λ\n",
      "5 | Q₀ |Q₀\n",
      "6 | Q̇ |∂ₜ(Q)\n",
      "7 | •2 |V*κ\n",
      "8 | •3 |λ(Q - Q₀)\n",
      "9 | •4 |Q - Q₀\n"
     ]
    }
   ],
   "source": [
    "for var in friction_decapode.variables.values():\n",
    "    var.build_expression(friction_decapode)\n",
    "  \n",
    "\n",
    "for idx,var in enumerate(friction_decapode.variables.values()):\n",
    "    var.break_down_variables(friction_decapode)\n",
    "    print(f\"{idx+1} | {var.name} |{str(var.expression)}\")\n"
   ]
  },
  {
   "cell_type": "markdown",
   "id": "54516aaa-ce03-44c0-9dac-87637570d684",
   "metadata": {},
   "source": [
    "## Oscillator Decapode"
   ]
  },
  {
   "cell_type": "code",
   "execution_count": 11,
   "id": "e74782ff-5a10-4d4c-8fef-aa667323f387",
   "metadata": {},
   "outputs": [
    {
     "name": "stdout",
     "output_type": "stream",
     "text": [
      "1 | X |X\n",
      "2 | V |∂ₜ(X)\n",
      "3 | k |k\n",
      "4 | mult_1 |-1*k\n",
      "5 | V̇ |-1*X*k\n",
      "6 | -1 |-1\n"
     ]
    }
   ],
   "source": [
    "for var in oscillator_decapode .variables.values():\n",
    "    var.build_expression(oscillator_decapode )\n",
    "  \n",
    "\n",
    "for idx,var in enumerate(oscillator_decapode.variables.values()):\n",
    "    var.break_down_variables(oscillator_decapode )\n",
    "    print(f\"{idx+1} | {var.name} |{str(var.expression)}\")"
   ]
  },
  {
   "cell_type": "markdown",
   "id": "ea811a53-7cf7-4b31-bd67-86e0dfdccfc3",
   "metadata": {},
   "source": [
    "## Halfar Ice Decapode"
   ]
  },
  {
   "cell_type": "code",
   "execution_count": 5,
   "id": "d8575fab-6575-47bd-9708-114b1ca6831e",
   "metadata": {},
   "outputs": [
    {
     "data": {
      "text/plain": [
       "{1, 2, 2, dynamics_sum_1, h, n, stress_A, stress_g, stress_sum_1, stress_ρ}"
      ]
     },
     "execution_count": 5,
     "metadata": {},
     "output_type": "execute_result"
    }
   ],
   "source": [
    "ice_decapode.get_only_inputs_both()"
   ]
  },
  {
   "cell_type": "markdown",
   "id": "5e0135fe-f815-4721-bcc0-9283f6436100",
   "metadata": {},
   "source": [
    "## We are able to preserve exact variable and function names "
   ]
  },
  {
   "cell_type": "code",
   "execution_count": 12,
   "id": "e938fee8-c7ce-4594-8216-3d004e236c58",
   "metadata": {},
   "outputs": [
    {
     "name": "stdout",
     "output_type": "stream",
     "text": [
      "1 | h |h\n",
      "2 | Γ |2*stress_A*(stress_g*stress_ρ)**n/stress_sum_1\n",
      "3 | n |n\n",
      "4 | dynamics_ḣ |∂ₜ(h)\n",
      "5 | dynamics_mult_1 |2*stress_A*(stress_g*stress_ρ)**n*avg₀₁(mag(♯(d₀(h)))**(-1 + n))*d₀(h)/stress_sum_1\n",
      "6 | dynamics_mult_2 |2*stress_A*(stress_g*stress_ρ)**n*avg₀₁(h**dynamics_sum_1)*avg₀₁(mag(♯(d₀(h)))**(-1 + n))*d₀(h)/stress_sum_1\n",
      "7 | dynamics_•1 |d₀(h)\n",
      "8 | dynamics_•2 |avg₀₁(mag(♯(d₀(h)))**(-1 + n))\n",
      "9 | dynamics_•3 |mag(♯(d₀(h)))**(-1 + n)\n",
      "10 | dynamics_•4 |mag(♯(d₀(h)))\n",
      "11 | dynamics_•5 |♯(d₀(h))\n",
      "12 | dynamics_•6 |d₀(h)\n",
      "13 | dynamics_•7 |-1 + n\n",
      "14 | 1 |1\n",
      "15 | dynamics_•8 |avg₀₁(h**dynamics_sum_1)\n",
      "16 | dynamics_•9 |h**dynamics_sum_1\n",
      "17 | 2 |2\n",
      "18 | dynamics_sum_1 |dynamics_sum_1\n",
      "19 | dynamics_mult_3 |2*stress_A*(stress_g*stress_ρ)**n*d₀(h)/stress_sum_1\n",
      "20 | stress_A |stress_A\n",
      "21 | stress_ρ |stress_ρ\n",
      "22 | stress_g |stress_g\n",
      "23 | stress_•1 |2/stress_sum_1\n",
      "24 | 2 |2\n",
      "25 | stress_sum_1 |stress_sum_1\n",
      "26 | stress_•2 |(stress_g*stress_ρ)**n\n",
      "27 | stress_•3 |stress_g*stress_ρ\n",
      "28 | stress_mult_1 |2*stress_A/stress_sum_1\n",
      "29 | •_8_1 |⋆₁(2*stress_A*(stress_g*stress_ρ)**n*avg₀₁(h**dynamics_sum_1)*avg₀₁(mag(♯(d₀(h)))**(-1 + n))*d₀(h)/stress_sum_1)\n",
      "30 | •_8_2 |dual_d₁(⋆₁(2*stress_A*(stress_g*stress_ρ)**n*avg₀₁(h**dynamics_sum_1)*avg₀₁(mag(♯(d₀(h)))**(-1 + n))*d₀(h)/stress_sum_1))\n"
     ]
    }
   ],
   "source": [
    "for idx,var in enumerate(ice_decapode.variables.values()):\n",
    "    var.build_expression(ice_decapode )\n",
    "for idx,var in enumerate(ice_decapode.variables.values()):\n",
    "    var.break_down_variables(ice_decapode )\n",
    "    print(f\"{idx+1} | {var.name} |{str(var.expression)}\")"
   ]
  }
 ],
 "metadata": {
  "kernelspec": {
   "display_name": "Python 3 (ipykernel)",
   "language": "python",
   "name": "python3"
  },
  "language_info": {
   "codemirror_mode": {
    "name": "ipython",
    "version": 3
   },
   "file_extension": ".py",
   "mimetype": "text/x-python",
   "name": "python",
   "nbconvert_exporter": "python",
   "pygments_lexer": "ipython3",
   "version": "3.10.12"
  }
 },
 "nbformat": 4,
 "nbformat_minor": 5
}
