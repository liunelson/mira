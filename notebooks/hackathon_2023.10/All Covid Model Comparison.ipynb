{
 "cells": [
  {
   "cell_type": "code",
   "execution_count": 1,
   "id": "52780839-3713-42d9-b349-afff3f15e988",
   "metadata": {},
   "outputs": [
    {
     "name": "stdout",
     "output_type": "stream",
     "text": [
      "env: MIRA_REST_URL=http://34.230.33.149:8771\n"
     ]
    }
   ],
   "source": [
    "%env MIRA_REST_URL=http://34.230.33.149:8771\n",
    "from mira.sources import biomodels\n",
    "from mira.metamodel.comparison import *\n",
    "from mira.metamodel.template_model import *\n",
    "from mira.metamodel.templates import *\n",
    "from mira.sources import biomodels\n",
    "\n",
    "from itertools import combinations\n",
    "from copy import deepcopy\n",
    "from tabulate import tabulate\n",
    "\n",
    "import pandas as pd "
   ]
  },
  {
   "cell_type": "code",
   "execution_count": 2,
   "id": "d97a0a41-0801-4ad9-9933-f7d5bac2241a",
   "metadata": {},
   "outputs": [],
   "source": [
    "COVID_MODEL_LIST = [\"BIOMD0000000955\", \"BIOMD0000000956\", \"BIOMD0000000957\",\"BIOMD0000000958\",\"BIOMD0000000960\",\"BIOMD0000000962\",\n",
    "                    \"BIOMD0000000963\", \n",
    "                    \"BIOMD0000000964\", \"BIOMD0000000969\", \"BIOMD0000000970\",\"BIOMD0000000971\",\"BIOMD0000000972\",\n",
    "                    \"BIOMD0000000974\",\"BIOMD0000000976\", \n",
    "                    \"BIOMD0000000977\", \"BIOMD0000000978\", \"BIOMD0000000979\", \"BIOMD0000000980\", \"BIOMD0000000981\",\n",
    "                    \"BIOMD0000000982\",\n",
    "                    \"BIOMD0000000983\",\n",
    "                    \"BIOMD0000000984\",\"BIOMD0000000988\",\"BIOMD0000000991\"]"
   ]
  },
  {
   "cell_type": "code",
   "execution_count": 3,
   "id": "17af85da-9dbd-4cc1-912a-afcd4b81c2c6",
   "metadata": {},
   "outputs": [],
   "source": [
    "rc = get_dkg_refinement_closure()\n",
    "\n",
    "tm_covid_grounding_list = []\n",
    "for covid_model in COVID_MODEL_LIST:\n",
    "    tm_covid_grounding_list.append(biomodels.get_template_model(covid_model))\n",
    "\n",
    "model_id_name_mapping = {id:tm.annotations.name.split(' ')[0] for id,tm in enumerate(tm_covid_grounding_list)}"
   ]
  },
  {
   "cell_type": "code",
   "execution_count": 4,
   "id": "9261a57a-4541-4d53-9cf3-789a08eb2bb1",
   "metadata": {},
   "outputs": [
    {
     "name": "stderr",
     "output_type": "stream",
     "text": [
      "Comparing model templates: 22791it [00:00, 96096.12it/s] \n",
      "Comparing model concepts: 14196it [00:00, 119257.12it/s]\n"
     ]
    }
   ],
   "source": [
    "tm_covid_comparison = TemplateModelComparison(tm_covid_grounding_list,refinement_func=rc.is_ontological_child)"
   ]
  },
  {
   "cell_type": "code",
   "execution_count": 5,
   "id": "b2665459-92ca-492d-8163-f009bfd43911",
   "metadata": {},
   "outputs": [],
   "source": [
    "grounded_scores = tm_covid_comparison.model_comparison.get_similarity_scores()"
   ]
  },
  {
   "cell_type": "code",
   "execution_count": 6,
   "id": "b1bb4211-fa75-4db8-bf1a-0a3693b4d330",
   "metadata": {},
   "outputs": [],
   "source": [
    "tm_covid_no_grounding_list = [] \n",
    "for tm in tm_covid_grounding_list:\n",
    "    copied_tm = deepcopy(tm)\n",
    "    for template in copied_tm.templates:\n",
    "        for concept in template.get_concepts():\n",
    "            concept.identifiers = {}\n",
    "            concept.context = {}\n",
    "    tm_covid_no_grounding_list.append(copied_tm)"
   ]
  },
  {
   "cell_type": "code",
   "execution_count": 7,
   "id": "39c265c8-4a2e-4af3-90b5-dfd17222adcf",
   "metadata": {},
   "outputs": [
    {
     "name": "stderr",
     "output_type": "stream",
     "text": [
      "Comparing model templates: 22791it [00:00, 138074.63it/s]\n",
      "Comparing model concepts: 14196it [00:00, 246501.10it/s]\n"
     ]
    }
   ],
   "source": [
    "tm_covid_comparison_copy = TemplateModelComparison(tm_covid_no_grounding_list,refinement_func=rc.is_ontological_child)\n",
    "ungrounded_scores = tm_covid_comparison_copy.model_comparison.get_similarity_scores()\n",
    "\n",
    "list_of_both = []\n",
    "\n",
    "for grounded_score,ungrounded_score in zip(grounded_scores,ungrounded_scores):\n",
    "    list_of_both.append({'Model1':model_id_name_mapping[grounded_score['models'][0]],\n",
    "                         'Model2':model_id_name_mapping[grounded_score['models'][1]],\n",
    "                         'sim_dkg':grounded_score['score'],\n",
    "                        'sim_no_dkg':ungrounded_score['score']})"
   ]
  },
  {
   "cell_type": "code",
   "execution_count": 8,
   "id": "ad9b2311-2302-4743-9557-ff6f55c5e846",
   "metadata": {},
   "outputs": [
    {
     "name": "stdout",
     "output_type": "stream",
     "text": [
      "Removing groundings led to a decrease in pairwise similarity scores for 231 or 0.84% of the 276 pairwise model comparisons.\n"
     ]
    }
   ],
   "source": [
    "after_sim_lower_count = 0\n",
    "after_sim_higher_count = 0\n",
    "after_sim_same = 0 \n",
    "for model_comparison in list_of_both:\n",
    "    if model_comparison['sim_no_dkg'] < model_comparison['sim_dkg']:\n",
    "        after_sim_lower_count += 1\n",
    "    elif model_comparison['sim_no_dkg'] > model_comparison['sim_dkg']:\n",
    "        after_sim_higher_count += 1\n",
    "    elif model_comparison['sim_no_dkg'] == model_comparison['sim_dkg']:\n",
    "        after_sim_same += 1\n",
    "print(f\"Removing groundings led to a decrease in pairwise similarity scores for {after_sim_lower_count} or {round(after_sim_lower_count /len(list_of_both),2)}% of the {len(list_of_both)} pairwise model comparisons.\")"
   ]
  },
  {
   "cell_type": "code",
   "execution_count": 9,
   "id": "abe29402-b3e3-407a-969c-b23925139a07",
   "metadata": {},
   "outputs": [
    {
     "name": "stdout",
     "output_type": "stream",
     "text": [
      "Removing groundings led to an increase in pairwise similarity scores for 11 or 0.04% of the 276 pairwise model comparisons.\n"
     ]
    }
   ],
   "source": [
    "print(f\"Removing groundings led to an increase in pairwise similarity scores for {after_sim_higher_count} or {round(after_sim_higher_count/len(list_of_both),2)}% of the 276 pairwise model comparisons.\")"
   ]
  },
  {
   "cell_type": "code",
   "execution_count": 10,
   "id": "766431b2-74c6-4e10-86c6-923366e7664b",
   "metadata": {},
   "outputs": [
    {
     "name": "stdout",
     "output_type": "stream",
     "text": [
      "Removing groundings led to no change in pairwise similarity scores for 34 or 0.12% of the 276 pairwise model comparisons.\n"
     ]
    }
   ],
   "source": [
    "print(f\"Removing groundings led to no change in pairwise similarity scores for {after_sim_same} or {round(after_sim_same/len(list_of_both),2)}% of the {len(list_of_both)} pairwise model comparisons.\")"
   ]
  },
  {
   "cell_type": "code",
   "execution_count": 11,
   "id": "b5de93b1",
   "metadata": {},
   "outputs": [],
   "source": [
    "diffs = []\n",
    "for model_comparison in list_of_both:\n",
    "    diffs.append(model_comparison['sim_dkg'] - model_comparison['sim_no_dkg'])"
   ]
  },
  {
   "cell_type": "code",
   "execution_count": 12,
   "id": "55afca09",
   "metadata": {},
   "outputs": [],
   "source": [
    "import matplotlib.pyplot as plt"
   ]
  },
  {
   "cell_type": "code",
   "execution_count": 29,
   "id": "e1b265b5",
   "metadata": {},
   "outputs": [
    {
     "data": {
      "text/plain": [
       "(0.5, 1.5)"
      ]
     },
     "execution_count": 29,
     "metadata": {},
     "output_type": "execute_result"
    },
    {
     "data": {
      "image/png": "[encoded data removed]",
      "text/plain": [
       "<Figure size 640x480 with 1 Axes>"
      ]
     },
     "metadata": {},
     "output_type": "display_data"
    }
   ],
   "source": [
    "plt.boxplot(diffs, showmeans=True)\n",
    "plt.ylabel('Model comparison score difference\\n (with DKG - without DKG)')\n",
    "plt.xlabel('COVID-19 epidemiology model pairs')\n",
    "plt.xticks([])\n",
    "plt.plot([-1, 2], [0, 0], 'k--')\n",
    "plt.xlim([0.5, 1.5])"
   ]
  },
  {
   "cell_type": "code",
   "execution_count": 32,
   "id": "c9c403df",
   "metadata": {},
   "outputs": [
    {
     "data": {
      "text/plain": [
       "(0.5, 1.5)"
      ]
     },
     "execution_count": 32,
     "metadata": {},
     "output_type": "execute_result"
    },
    {
     "data": {
      "image/png": "[encoded data removed]",
      "text/plain": [
       "<Figure size 640x480 with 1 Axes>"
      ]
     },
     "metadata": {},
     "output_type": "display_data"
    }
   ],
   "source": [
    "plt.boxplot([abs(d) for d in diffs], showmeans=True)\n",
    "plt.ylabel('Model comparison score difference\\n abs(with DKG - without DKG)')\n",
    "plt.xlabel('COVID-19 epidemiology model pairs')\n",
    "plt.xticks([])\n",
    "plt.xlim([0.5, 1.5])"
   ]
  },
  {
   "cell_type": "code",
   "execution_count": 33,
   "id": "07a30953",
   "metadata": {},
   "outputs": [
    {
     "data": {
      "text/plain": [
       "276"
      ]
     },
     "execution_count": 33,
     "metadata": {},
     "output_type": "execute_result"
    }
   ],
   "source": [
    "len(diffs)"
   ]
  },
  {
   "cell_type": "code",
   "execution_count": null,
   "id": "3e2a11e8",
   "metadata": {},
   "outputs": [],
   "source": []
  }
 ],
 "metadata": {
  "kernelspec": {
   "display_name": "Python 3 (ipykernel)",
   "language": "python",
   "name": "python3"
  },
  "language_info": {
   "codemirror_mode": {
    "name": "ipython",
    "version": 3
   },
   "file_extension": ".py",
   "mimetype": "text/x-python",
   "name": "python",
   "nbconvert_exporter": "python",
   "pygments_lexer": "ipython3",
   "version": "3.10.13"
  }
 },
 "nbformat": 4,
 "nbformat_minor": 5
}
