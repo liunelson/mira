{
 "cells": [
  {
   "cell_type": "code",
   "execution_count": 1,
   "id": "a3f4694c-6dfd-438c-ba7f-25571f8b6db0",
   "metadata": {},
   "outputs": [],
   "source": [
    "import requests\n",
    "from mira.dkg.client import Neo4jClient"
   ]
  },
  {
   "cell_type": "markdown",
   "id": "9750dc65-e30d-43a9-acbf-5a661961e5ed",
   "metadata": {},
   "source": [
    "## We define an instance of the Neo4jClient to query for the nodes and edges added to the DKG"
   ]
  },
  {
   "cell_type": "code",
   "execution_count": 2,
   "id": "a69c02f1-284b-4248-bddc-b10cc5ed87cd",
   "metadata": {},
   "outputs": [],
   "source": [
    "client = Neo4jClient()"
   ]
  },
  {
   "cell_type": "markdown",
   "id": "780f5a69-c4cd-4130-9547-d9974a0f53ec",
   "metadata": {},
   "source": [
    "# We define sample nodes to be added to the DKG"
   ]
  },
  {
   "cell_type": "code",
   "execution_count": 3,
   "id": "6cdf0570-f177-4adf-a446-2216bd26089e",
   "metadata": {},
   "outputs": [],
   "source": [
    "node_list = []\n",
    "\n",
    "node1 = {\n",
    "    \"id\": \"ido:0000511\",\n",
    "    \"name\": \"infected population\",\n",
    "    \"type\": \"class\",\n",
    "    \"obsolete\": False,\n",
    "    \"description\": \"An organism population whose members have an infection.\",\n",
    "    \"synonyms\": [],\n",
    "    \"alts\": [],\n",
    "    \"xrefs\": [],\n",
    "    \"labels\": [\"ido\"],\n",
    "    \"properties\": {},\n",
    "    \"link\": \"string\",\n",
    "    \"physical_min\": 0,\n",
    "    \"physical_max\": 0,\n",
    "    \"suggested_data_type\": \"string\",\n",
    "    \"suggested_unit\": \"string\",\n",
    "    \"typical_min\": 0,\n",
    "    \"typical_max\": 0,\n",
    "}\n",
    "\n",
    "node2 = {\n",
    "    \"id\": \"ido:0000514\",\n",
    "    \"name\": \"susceptible population\",\n",
    "    \"type\": \"class\",\n",
    "    \"obsolete\": False,\n",
    "    \"description\": \"An organism population whose members are not infected with an infectious agent and who lack immunity to the infectious agent.\",\n",
    "    \"synonyms\": [],\n",
    "    \"alts\": [],\n",
    "    \"xrefs\": [],\n",
    "    \"labels\": [\"ido\"],\n",
    "    \"properties\": {},\n",
    "    \"link\": \"string\",\n",
    "}\n",
    "\n",
    "\n",
    "# Define a fully instantiated node\n",
    "node3 = {\n",
    "    \"id\": \"ido:0000511\",\n",
    "    \"name\": \"infected population\",\n",
    "    \"type\": \"class\",\n",
    "    \"obsolete\": False,\n",
    "    \"description\": \"An organism population whose members have an infection.\",\n",
    "    \"synonyms\": [{\"value\": \"infected pop\", \"type\": \"skos:exactMatch\"}],\n",
    "    \"alts\": [\"ido:0000511-alt1\", \"ido:0000511-alt2\"],\n",
    "    \"xrefs\": [\n",
    "        {\"id\": \"xref:0001\", \"type\": \"skos:exactMatch\"},\n",
    "        {\"id\": \"xref:0002\", \"type\": \"skos:exactMatch\"},\n",
    "    ],\n",
    "    \"labels\": [\"ido\", \"population\"],\n",
    "    \"properties\": {\"property1\": [\"value1\"], \"property2\": [\"value3\"]},\n",
    "}\n",
    "\n",
    "\n",
    "node_list.append(node1)\n",
    "node_list.append(node2)"
   ]
  },
  {
   "cell_type": "markdown",
   "id": "60fcebd4-af01-46ae-a6ce-25b70f0f6bf5",
   "metadata": {},
   "source": [
    "## Test the add_nodes endpoint \n",
    "\n",
    "We first test the ```add_nodes``` endpoint that takes in a list of ```Entity``` and ```AskemEntity``` objects and adds them as nodes to the DKG. Only the ```id```, ```obsolete```, and ```type``` properties are mandatory."
   ]
  },
  {
   "cell_type": "code",
   "execution_count": 4,
   "id": "2c3452bf-5bc3-43ca-9623-e8860fc7e0a5",
   "metadata": {},
   "outputs": [
    {
     "data": {
      "text/plain": [
       "200"
      ]
     },
     "execution_count": 4,
     "metadata": {},
     "output_type": "execute_result"
    }
   ],
   "source": [
    "response = requests.post(\"http://localhost:8771/api/add_nodes\", json=node_list)\n",
    "response.status_code"
   ]
  },
  {
   "cell_type": "markdown",
   "id": "88a24f10-f276-45e9-a12f-7b24a605f1ba",
   "metadata": {},
   "source": [
    "## We query for the added nodes"
   ]
  },
  {
   "cell_type": "code",
   "execution_count": 5,
   "id": "0a0351be-2553-460e-974b-b32777a4c8a5",
   "metadata": {},
   "outputs": [
    {
     "name": "stdout",
     "output_type": "stream",
     "text": [
      "{'name': 'infected population', 'obsolete': False, 'description': 'An organism population whose members have an infection.', 'id': 'ido:0000511', 'type': 'class', 'labels': ['ido']}\n"
     ]
    }
   ],
   "source": [
    "query = f\"MATCH (N) WHERE N.id = 'ido:0000511' RETURN N\"\n",
    "print(client.query_tx(query)[0][0]._properties)"
   ]
  },
  {
   "cell_type": "code",
   "execution_count": 6,
   "id": "9be0bc56-c4b5-447e-a2ce-2a00b1697e2a",
   "metadata": {},
   "outputs": [
    {
     "name": "stdout",
     "output_type": "stream",
     "text": [
      "{'name': 'susceptible population', 'obsolete': False, 'description': 'An organism population whose members are not infected with an infectious agent and who lack immunity to the infectious agent.', 'id': 'ido:0000514', 'type': 'class', 'labels': ['ido']}\n"
     ]
    }
   ],
   "source": [
    "query = f\"MATCH (N) WHERE N.id = 'ido:0000514' RETURN N\"\n",
    "print(client.query_tx(query)[0][0]._properties)"
   ]
  },
  {
   "cell_type": "markdown",
   "id": "4e4197b8-4e33-483d-b009-cad060a615d9",
   "metadata": {},
   "source": [
    "## Add a fully instantiated node to the DKG\n",
    "We then add a node with all of its properties supplied. Duplicate nodes (all properties must be matching for a node to be considered duplicate) are not added to the DKG."
   ]
  },
  {
   "cell_type": "code",
   "execution_count": 7,
   "id": "b9d7017d-339d-4f7f-930b-1348ddd5f593",
   "metadata": {},
   "outputs": [
    {
     "data": {
      "text/plain": [
       "200"
      ]
     },
     "execution_count": 7,
     "metadata": {},
     "output_type": "execute_result"
    }
   ],
   "source": [
    "node_list.append(node3)\n",
    "node_list.append(node1)\n",
    "response = requests.post(\"http://localhost:8771/api/add_nodes\", json=node_list)\n",
    "response.status_code"
   ]
  },
  {
   "cell_type": "code",
   "execution_count": 8,
   "id": "10b4c035-69f9-4df7-b3bd-bf3e0d1fa9ec",
   "metadata": {},
   "outputs": [
    {
     "name": "stdout",
     "output_type": "stream",
     "text": [
      "{'name': 'infected population', 'obsolete': False, 'description': 'An organism population whose members have an infection.', 'id': 'ido:0000511', 'type': 'class', 'labels': ['ido']}\n",
      "\n",
      "{'xref_types': ['skos:exactMatch', 'skos:exactMatch'], 'synonyms': ['infected pop'], 'alts': ['ido:0000511-alt1', 'ido:0000511-alt2'], 'xrefs': ['xref:0001', 'xref:0002'], 'obsolete': False, 'description': 'An organism population whose members have an infection.', 'type': 'class', 'labels': ['ido', 'population'], 'synonym_types': ['skos:exactMatch'], 'property_values': ['value1', 'value3'], 'property_predicates': ['property1', 'property2'], 'name': 'infected population', 'id': 'ido:0000511'}\n",
      "\n"
     ]
    }
   ],
   "source": [
    "# We have two node objects returned from the query both with id ido:0000511 even though \n",
    "# we used the add_nodes endpoint to add a node with ```id=ido:0000511``` three times\n",
    "\n",
    "query = f\"MATCH (N) WHERE N.id = 'ido:0000511' RETURN N\"\n",
    "for n in client.query_tx(query):\n",
    "    print(n[0]._properties)\n",
    "    print()"
   ]
  },
  {
   "cell_type": "markdown",
   "id": "c94627a4-cee9-4d7a-ac9b-ebf36cccca30",
   "metadata": {},
   "source": [
    "# Test the add_relations  endpoint\n",
    "The ```add_relations``` endpoint takes in a list of ```Relation``` objects and adds the relation to the DKG. All properties of the relation are required. Duplicate relations are not added."
   ]
  },
  {
   "cell_type": "code",
   "execution_count": 9,
   "id": "cfd152e2-b3af-428c-b264-f40c6d15825f",
   "metadata": {},
   "outputs": [],
   "source": [
    "relation_list = [\n",
    "    {\n",
    "        \"source_curie\": \"probonto:k0000000\",\n",
    "        \"target_curie\": \"probonto:k0000007\",\n",
    "        \"type\": \"has_parameter\",\n",
    "        \"pred\": \"probonto:c0000062\",\n",
    "        \"source\": \"probonto\",\n",
    "        \"graph\": \"https://raw.githubusercontent.com/probonto/ontology/master/probonto4ols.owl\",\n",
    "        \"version\": \"2.5\",\n",
    "    },\n",
    "    {\n",
    "        \"source_curie\": \"geonames:12042053\",\n",
    "        \"target_curie\": \"geonames:292969\",\n",
    "        \"type\": \"part_of\",\n",
    "        \"pred\": \"bfo:0000050\",\n",
    "        \"source\": \"geonames\",\n",
    "        \"graph\": \"geonames\",\n",
    "        \"version\": \"\",\n",
    "    },\n",
    "]"
   ]
  },
  {
   "cell_type": "code",
   "execution_count": 10,
   "id": "bb5c11cb-75b7-429e-a5b9-64af0e4a866c",
   "metadata": {},
   "outputs": [
    {
     "data": {
      "text/plain": [
       "200"
      ]
     },
     "execution_count": 10,
     "metadata": {},
     "output_type": "execute_result"
    }
   ],
   "source": [
    "response = requests.post(\n",
    "    \"http://localhost:8771/api/add_relations\", json=relation_list\n",
    ")\n",
    "response.status_code"
   ]
  },
  {
   "cell_type": "markdown",
   "id": "53cc6281-ff93-40f4-8b55-515c9a4c6de1",
   "metadata": {},
   "source": [
    "# We query for the added relations"
   ]
  },
  {
   "cell_type": "code",
   "execution_count": 11,
   "id": "973f3bed-665c-4aba-829c-9ea5e6258487",
   "metadata": {},
   "outputs": [
    {
     "name": "stdout",
     "output_type": "stream",
     "text": [
      "Source Node : {'property_values': ['probability'], 'xref_types': ['askemo:0000016'], 'property_predicates': ['has_parameter'], 'name': 'Bernoulli1', 'obsolete': False, 'xrefs': ['probonto:k0000028'], 'id': 'probonto:k0000000', 'source': 'probonto', 'type': 'class', 'version': '2.5'} \n",
      "\n",
      "Relation : {'pred': 'probonto:c0000062', 'source': 'probonto', 'version': '2.5', 'graph': 'https://raw.githubusercontent.com/probonto/ontology/master/probonto4ols.owl'} \n",
      "\n",
      "Target Node : {'synonym_types': ['referenced_by_latex', 'oboInOwl:hasExactSynonym'], 'synonyms': ['p', 'probability of success'], 'name': 'probability', 'obsolete': False, 'id': 'probonto:k0000007', 'type': 'class', 'version': '2.5'} \n",
      "\n"
     ]
    }
   ],
   "source": [
    "source_curie = \"probonto:k0000000\"\n",
    "target_curie = \"probonto:k0000007\"\n",
    "rel_type = \"has_parameter\"\n",
    "\n",
    "relation_query = f\"MATCH (source_node {{id: '{source_curie}'}}), (target_node {{id: '{target_curie}'}}) MATCH (source_node)-[rel:{rel_type}]->(target_node) RETURN source_node, rel, target_node\"\n",
    "\n",
    "result = client.query_tx(relation_query)\n",
    "\n",
    "print(f\"Source Node : {result[0][0]._properties} \\n\")\n",
    "print(f\"Relation : {result[0][1]._properties} \\n\")\n",
    "print(f\"Target Node : {result[0][2]._properties} \\n\")"
   ]
  },
  {
   "cell_type": "code",
   "execution_count": 12,
   "id": "b8333206-4b12-44ad-b180-d1e63670111f",
   "metadata": {},
   "outputs": [
    {
     "name": "stdout",
     "output_type": "stream",
     "text": [
      "Source Node : <Node element_id='5849' labels=frozenset() properties={'synonym_types': ['oboinowl:SynonymType', 'oboinowl:SynonymType', 'oboinowl:SynonymType', 'oboinowl:SynonymType', 'oboinowl:SynonymType'], 'synonyms': ['Musaffa', 'Musaffah City', 'msfh', 'Мусаффа', 'مصفح'], 'name': 'Musaffah', 'obsolete': False, 'id': 'geonames:12042053', 'type': 'individual'}>._properties \n",
      "\n",
      "Relation : {'pred': 'bfo:0000050', 'source': 'geonames', 'version': '', 'graph': 'geonames'} \n",
      "\n",
      "Target Node : {'property_values': ['AE.01'], 'property_predicates': ['code'], 'name': 'Abu Dhabi', 'obsolete': False, 'id': 'geonames:292969', 'type': 'individual'} \n",
      "\n"
     ]
    }
   ],
   "source": [
    "source_curie = \"geonames:12042053\"\n",
    "target_curie = \"geonames:292969\"\n",
    "rel_type = \"part_of\"\n",
    "\n",
    "relation_query = f\"MATCH (source_node {{id: '{source_curie}'}}), (target_node {{id: '{target_curie}'}}) MATCH (source_node)-[rel:{rel_type}]->(target_node) RETURN source_node, rel, target_node\"\n",
    "\n",
    "result = client.query_tx(relation_query)\n",
    "\n",
    "print(f\"Source Node : {result[0][0]}._properties \\n\")\n",
    "print(f\"Relation : {result[0][1]._properties} \\n\")\n",
    "print(f\"Target Node : {result[0][2]._properties} \\n\")"
   ]
  },
  {
   "cell_type": "markdown",
   "id": "091a04f3-a2e0-4113-9fc8-272dc99e688f",
   "metadata": {},
   "source": [
    "# Test the add_resources endpoint\n",
    "The ```add_resources``` endpoint accepts a list of strings that represent resource prefixes. Nodes and edges are extracted from each resource and then added to the DKG. The resources that can be added are ```eiffel, cso, wikidata, probonto, ncit, ncbitaxon, geonames```. The names are not case-sensitive and invalid resource prefixes are ignored. "
   ]
  },
  {
   "cell_type": "code",
   "execution_count": 13,
   "id": "c00ac8c4-59d5-4533-a95a-17c6def957b0",
   "metadata": {},
   "outputs": [
    {
     "data": {
      "text/plain": [
       "200"
      ]
     },
     "execution_count": 13,
     "metadata": {},
     "output_type": "execute_result"
    }
   ],
   "source": [
    "resource_list = [\n",
    "    \"probonto\",\n",
    "    \"wikidata\",\n",
    "    \"eiffel\",\n",
    "    \"geonames\",\n",
    "    \"ncit\",\n",
    "    \"nbcbitaxon\",\n",
    "    \"cso\",\n",
    "]\n",
    "\n",
    "response = requests.post(\n",
    "    \"http://localhost:8771/api/add_resources\", json=resource_list\n",
    ")\n",
    "response.status_code"
   ]
  },
  {
   "cell_type": "markdown",
   "id": "4b646cdc-5f60-4ed2-8dfe-e510bd8469d5",
   "metadata": {},
   "source": [
    "# We then query for some of the added nodes from the resources processed"
   ]
  },
  {
   "cell_type": "code",
   "execution_count": 14,
   "id": "a66a111c-5aac-485c-b77d-49d856b693cd",
   "metadata": {},
   "outputs": [
    {
     "data": {
      "text/plain": [
       "{'synonym_types': ['debio:0000031'],\n",
       " 'property_values': ['0.01438776877'],\n",
       " 'xref_types': ['oboinowl:hasDbXref'],\n",
       " 'synonyms': ['c_{2}'],\n",
       " 'property_predicates': ['debio:0000042'],\n",
       " 'xrefs': ['nist.codata:c22ndrc'],\n",
       " 'name': 'second radiation constant',\n",
       " 'obsolete': False,\n",
       " 'description': \"constant in Wien's radiation law\",\n",
       " 'id': 'wikidata:Q112300321',\n",
       " 'type': 'class'}"
      ]
     },
     "execution_count": 14,
     "metadata": {},
     "output_type": "execute_result"
    }
   ],
   "source": [
    "query = f\"MATCH (N) WHERE N.id = 'wikidata:Q112300321' RETURN N\"\n",
    "client.query_tx(query)[0][0]._properties"
   ]
  },
  {
   "cell_type": "code",
   "execution_count": 15,
   "id": "1194936e-5c93-4d8b-887f-a2c4395dc599",
   "metadata": {},
   "outputs": [
    {
     "data": {
      "text/plain": [
       "{'synonym_types': ['oboinowl:SynonymType',\n",
       "  'oboinowl:SynonymType',\n",
       "  'oboinowl:SynonymType',\n",
       "  'oboinowl:SynonymType',\n",
       "  'oboinowl:SynonymType'],\n",
       " 'synonyms': ['Musaffa', 'Musaffah City', 'msfh', 'Мусаффа', 'مصفح'],\n",
       " 'name': 'Musaffah',\n",
       " 'obsolete': False,\n",
       " 'id': 'geonames:12042053',\n",
       " 'type': 'individual'}"
      ]
     },
     "execution_count": 15,
     "metadata": {},
     "output_type": "execute_result"
    }
   ],
   "source": [
    "query = f\"MATCH (N) WHERE N.id = 'geonames:12042053' RETURN N\"\n",
    "client.query_tx(query)[0][0]._properties"
   ]
  },
  {
   "cell_type": "code",
   "execution_count": 16,
   "id": "ae1442ef-7558-4b47-8bd5-0c87b309102a",
   "metadata": {},
   "outputs": [
    {
     "data": {
      "text/plain": [
       "{'synonym_types': ['oboinowl:SynonymType', 'oboinowl:SynonymType'],\n",
       " 'property_values': ['C123547',\n",
       "  'Eukaryote',\n",
       "  'Plasmodium falciparum',\n",
       "  'C0032150',\n",
       "  'CDISC',\n",
       "  'Any unicellular, eukaryotic organism that can be assigned to the species Plasmodium falciparum.',\n",
       "  '5833'],\n",
       " 'synonyms': ['PLASMODIUM FALCIPARUM', 'Plasmodium falciparum'],\n",
       " 'property_predicates': ['NCIT:NHC0',\n",
       "  'NCIT:P106',\n",
       "  'NCIT:P108',\n",
       "  'NCIT:P207',\n",
       "  'NCIT:P322',\n",
       "  'NCIT:P325',\n",
       "  'NCIT:P331'],\n",
       " 'name': 'Plasmodium falciparum',\n",
       " 'obsolete': False,\n",
       " 'description': 'A protozoan parasite in the family Plasmodiidae. P. falciparum is transmitted by the female Anopheles mosquito and is a causative agent of malaria in humans. The malaria caused by this species is the most dangerous form of malaria.',\n",
       " 'id': 'ncit:C123547',\n",
       " 'type': 'class'}"
      ]
     },
     "execution_count": 16,
     "metadata": {},
     "output_type": "execute_result"
    }
   ],
   "source": [
    "query = f\"MATCH (N) WHERE N.id = 'ncit:C123547' RETURN N\"\n",
    "client.query_tx(query)[0][0]._properties"
   ]
  }
 ],
 "metadata": {
  "kernelspec": {
   "display_name": "Python 3 (ipykernel)",
   "language": "python",
   "name": "python3"
  },
  "language_info": {
   "codemirror_mode": {
    "name": "ipython",
    "version": 3
   },
   "file_extension": ".py",
   "mimetype": "text/x-python",
   "name": "python",
   "nbconvert_exporter": "python",
   "pygments_lexer": "ipython3",
   "version": "3.10.12"
  }
 },
 "nbformat": 4,
 "nbformat_minor": 5
}
