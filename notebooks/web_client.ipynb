{
 "cells": [
  {
   "cell_type": "markdown",
   "metadata": {
    "collapsed": false,
    "jupyter": {
     "outputs_hidden": false
    }
   },
   "source": [
    "This notebook shows how to use the web client in the `web_client` module. The web client assumes the URL to the REST API is set either in the environment with `MIRA_REST_URL` or in the mira configuration file under `rest_url`. The REST API url can also be provided directly to the functions in the module using the optional `api_url` parameter that will override any other setting of the REST API url."
   ]
  },
  {
   "cell_type": "code",
   "execution_count": 1,
   "metadata": {
    "collapsed": false,
    "jupyter": {
     "outputs_hidden": false
    }
   },
   "outputs": [],
   "source": [
    "from mira.dkg.web_client import get_entity_web, ground_web, get_relations_web\n",
    "from mira.dkg.api import RelationQuery"
   ]
  },
  {
   "cell_type": "markdown",
   "metadata": {
    "collapsed": false,
    "jupyter": {
     "outputs_hidden": false
    }
   },
   "source": [
    "To ground an entity, provide `ground_web` with at least the text to be grounded:"
   ]
  },
  {
   "cell_type": "code",
   "execution_count": 10,
   "metadata": {
    "collapsed": false,
    "jupyter": {
     "outputs_hidden": false
    }
   },
   "outputs": [
    {
     "name": "stdout",
     "output_type": "stream",
     "text": [
      "<class 'mira.dkg.grounding.GroundResults'>\n",
      "--\n",
      "url='https://bioregistry.io/apollosv:00000233' score=0.76 prefix='apollosv' identifier='00000233' curie='apollosv:00000233' name='infected population' status='name'\n",
      "--\n",
      "url='https://bioregistry.io/ido:0000511' score=0.76 prefix='ido' identifier='0000511' curie='ido:0000511' name='infected population' status='name'\n",
      "--\n"
     ]
    }
   ],
   "source": [
    "ground_res = ground_web(text=\"Infected Population\")\n",
    "# ground_web returns a GroundResults model from mira.dkg.grounding\n",
    "print(ground_res.__class__)\n",
    "print('--')\n",
    "for grounding_result in ground_res.results:\n",
    "    print(grounding_result)\n",
    "    print('--')"
   ]
  },
  {
   "cell_type": "markdown",
   "metadata": {
    "collapsed": false,
    "jupyter": {
     "outputs_hidden": false
    }
   },
   "source": [
    "To get more information about an entity, provide its curie to the `get_entity_web` function:"
   ]
  },
  {
   "cell_type": "code",
   "execution_count": 3,
   "metadata": {
    "collapsed": false,
    "jupyter": {
     "outputs_hidden": false
    }
   },
   "outputs": [
    {
     "data": {
      "text/plain": [
       "Entity(id='ido:0000511', name='infected population', type='class', obsolete=False, description='An organism population whose members have an infection.', synonyms=[], alts=[], xrefs=[], labels=['ido'], properties={})"
      ]
     },
     "execution_count": 3,
     "metadata": {},
     "output_type": "execute_result"
    }
   ],
   "source": [
    "entity = get_entity_web(curie=\"ido:0000511\")\n",
    "entity"
   ]
  },
  {
   "cell_type": "markdown",
   "metadata": {
    "collapsed": false,
    "jupyter": {
     "outputs_hidden": false
    }
   },
   "source": [
    "To query for relations, use the `get_relations_web` function:"
   ]
  },
  {
   "cell_type": "code",
   "execution_count": 4,
   "metadata": {
    "collapsed": false,
    "jupyter": {
     "outputs_hidden": false
    }
   },
   "outputs": [
    {
     "data": {
      "text/plain": [
       "[RelationResponse(subject='vo:0005143', predicate='vo:0001243', object='ncbitaxon:10090'),\n",
       " RelationResponse(subject='vo:0005154', predicate='vo:0001243', object='ncbitaxon:10090'),\n",
       " RelationResponse(subject='vo:0005143', predicate='vo:0001243', object='ncbitaxon:10090'),\n",
       " RelationResponse(subject='vo:0005154', predicate='vo:0001243', object='ncbitaxon:10090'),\n",
       " RelationResponse(subject='vo:0000018', predicate='vo:0001243', object='ncbitaxon:10090')]"
      ]
     },
     "execution_count": 4,
     "metadata": {},
     "output_type": "execute_result"
    }
   ],
   "source": [
    "relation_query = RelationQuery(target_curie=\"ncbitaxon:10090\", relations=\"vo:0001243\")\n",
    "relations = get_relations_web(relations_model=relation_query)\n",
    "relations[:5]"
   ]
  }
 ],
 "metadata": {
  "kernelspec": {
   "display_name": "Python 3 (ipykernel)",
   "language": "python",
   "name": "python3"
  },
  "language_info": {
   "codemirror_mode": {
    "name": "ipython",
    "version": 3
   },
   "file_extension": ".py",
   "mimetype": "text/x-python",
   "name": "python",
   "nbconvert_exporter": "python",
   "pygments_lexer": "ipython3",
   "version": "3.10.12"
  }
 },
 "nbformat": 4,
 "nbformat_minor": 4
}
