{
 "cells": [
  {
   "cell_type": "code",
   "execution_count": 1,
   "id": "8223e482",
   "metadata": {},
   "outputs": [],
   "source": [
    "import json\n",
    "import sympy\n",
    "import numpy\n",
    "from mira.metamodel import *\n",
    "from mira.modeling.amr.petrinet import template_model_to_petrinet_json\n",
    "from mira.modeling import Model\n",
    "from mira.modeling.ode import OdeModel, simulate_ode_model"
   ]
  },
  {
   "cell_type": "code",
   "execution_count": 2,
   "id": "e4c5e2dd",
   "metadata": {},
   "outputs": [],
   "source": [
    "E_PSII = Concept(name='E_PSII')\n",
    "Q = Concept(name='Q')\n",
    "P_NPQ = Concept(name='P_NPQ')\n",
    "NADPp = Concept(name='NADPp')\n",
    "NADPH = Concept(name='NADPH')\n",
    "R = Concept(name='R')\n",
    "\n",
    "concepts = [E_PSII, Q, P_NPQ, NADPp, NADPH, R]"
   ]
  },
  {
   "cell_type": "code",
   "execution_count": 3,
   "id": "2a4b5195",
   "metadata": {},
   "outputs": [],
   "source": [
    "inits = {\n",
    "    'E_PSII': 0.0,\n",
    "    'Q': 0.0,\n",
    "    'P_NPQ': 0.0,\n",
    "    'NADPp': 5.0,\n",
    "    'NADPH': 5.0,\n",
    "    'R': 0.001,\n",
    "}\n",
    "\n",
    "params = {\n",
    "    'PAR': 520,\n",
    "    'alpha': 0.78,\n",
    "    'c_in': 0.23,\n",
    "    'E_PSII_star': 157.56,\n",
    "    'v_ETR': 0.78,\n",
    "    'v_d': 0.08,\n",
    "    'Q_star': 0.07,\n",
    "    'v_NPQ': 70.58,\n",
    "    'v_p': 0.07,\n",
    "    'v_C': 11.75,\n",
    "    'eta_NADPH': 5.07,\n",
    "    'eta_NADPp': 0.89,\n",
    "    'v_R': 8.9e-4,\n",
    "    'd': 8.40,\n",
    "    'c_y': -4\n",
    "}"
   ]
  },
  {
   "cell_type": "code",
   "execution_count": 4,
   "id": "03bbe6b8",
   "metadata": {},
   "outputs": [],
   "source": [
    "symbols = {c.name: sympy.Symbol(c.name) for c in concepts}\n",
    "symbols.update({k: sympy.Symbol(k) for k in params})"
   ]
  },
  {
   "cell_type": "code",
   "execution_count": 5,
   "id": "eeace5b6",
   "metadata": {},
   "outputs": [],
   "source": [
    "energy_input = safe_parse_expr('alpha*c_in*PAR*(1-E_PSII/E_PSII_star)', local_dict=symbols)\n",
    "ETR = safe_parse_expr('v_ETR*E_PSII*NADPp', local_dict=symbols)\n",
    "CEF = energy_input - ETR\n",
    "energy_dissipation = safe_parse_expr('v_d*E_PSII*P_NPQ*(1-Q/Q_star)', local_dict=symbols)\n",
    "\n",
    "templates = [\n",
    "    NaturalProduction(\n",
    "        outcome=E_PSII,\n",
    "        rate_law=energy_input),\n",
    "    ControlledDegradation(\n",
    "        subject=E_PSII,\n",
    "        controller=NADPp).with_mass_action_rate_law('v_ETR'),\n",
    "    GroupedControlledDegradation(\n",
    "        subject=E_PSII,\n",
    "        controllers=[P_NPQ, Q],\n",
    "        rate_law=energy_dissipation),\n",
    "    GroupedControlledProduction(\n",
    "        outcome=Q,\n",
    "        controllers=[P_NPQ, E_PSII],\n",
    "        rate_law=energy_dissipation),\n",
    "    NaturalDegradation(\n",
    "        subject=Q).with_mass_action_rate_law('v_NPQ'),\n",
    "    NaturalProduction(\n",
    "        outcome=P_NPQ,\n",
    "        rate_law=sympy.Piecewise((safe_parse_expr('v_p*(1-P_NPQ)', local_dict=symbols),\n",
    "                                  CEF > sympy.Symbol('c_y')),\n",
    "                                 (0, True))),\n",
    "    NaturalConversion(\n",
    "        outcome=NADPH,\n",
    "        subject=NADPp,\n",
    "        rate_law=ETR*sympy.Symbol('eta_NADPp')),\n",
    "    ControlledConversion(\n",
    "        subject=NADPH,\n",
    "        outcome=NADPp,\n",
    "        controller=R,\n",
    "        rate_law=safe_parse_expr('v_C*R*NADPH*eta_NADPH', local_dict=symbols)),\n",
    "    NaturalProduction(\n",
    "        outcome=R,\n",
    "        rate_law=safe_parse_expr('v_R*(1-R)*min(d, NADPH/NADPp)', local_dict=symbols))\n",
    "]\n",
    "\n",
    "observables = {\n",
    "    'ETR': Observable(name='ETR', expression=ETR),\n",
    "    'NPQ': Observable(name='NPQ', expression=sympy.Symbol('v_NPQ') * sympy.Symbol('Q')),\n",
    "    'A': Observable(name='A', expression=sympy.Symbol('v_C')*sympy.Symbol('R')*sympy.Symbol('NADPH'))\n",
    "}"
   ]
  },
  {
   "cell_type": "code",
   "execution_count": 6,
   "id": "ad2de988",
   "metadata": {},
   "outputs": [],
   "source": [
    "parameters = {p: Parameter(name=p, value=v) for p, v in params.items()}\n",
    "initials = {i: Initial(concept=Concept(name=i), expression=v) for i, v in inits.items()}"
   ]
  },
  {
   "cell_type": "code",
   "execution_count": 7,
   "id": "596994c4",
   "metadata": {},
   "outputs": [],
   "source": [
    "tm = TemplateModel(templates=templates,\n",
    "                   parameters=parameters,\n",
    "                   initials=initials,\n",
    "                   observables=observables)"
   ]
  },
  {
   "cell_type": "code",
   "execution_count": 8,
   "id": "9141c4a4",
   "metadata": {
    "scrolled": true
   },
   "outputs": [],
   "source": [
    "om = OdeModel(Model(tm), initialized=True)"
   ]
  },
  {
   "cell_type": "code",
   "execution_count": 9,
   "id": "43e14dfe",
   "metadata": {},
   "outputs": [
    {
     "data": {
      "text/latex": [
       "$\\displaystyle \\left[\\begin{matrix}\\left(1 - \\frac{y_{0, 0}}{p_{3, 0}}\\right) p_{4, 0} p_{5, 0} p_{6, 0} - \\left(1 - \\frac{y_{3, 0}}{p_{7, 0}}\\right) p_{8, 0} y_{0, 0} y_{2, 0} - p_{0, 0} y_{0, 0} y_{1, 0}\\\\- p_{0, 0} p_{11, 0} y_{0, 0} y_{1, 0} + p_{2, 0} p_{12, 0} y_{4, 0} y_{5, 0}\\\\\\begin{cases} \\left(1 - y_{2, 0}\\right) p_{10, 0} & \\text{for}\\: p_{9, 0} < \\left(1 - \\frac{y_{0, 0}}{p_{3, 0}}\\right) p_{4, 0} p_{5, 0} p_{6, 0} - p_{0, 0} y_{0, 0} y_{1, 0} \\\\0 & \\text{otherwise} \\end{cases}\\\\\\left(1 - \\frac{y_{3, 0}}{p_{7, 0}}\\right) p_{8, 0} y_{0, 0} y_{2, 0} - p_{1, 0} y_{3, 0}\\\\p_{0, 0} p_{11, 0} y_{0, 0} y_{1, 0} - p_{2, 0} p_{12, 0} y_{4, 0} y_{5, 0}\\\\\\left(1 - y_{5, 0}\\right) p_{14, 0} \\min\\left(\\frac{y_{4, 0}}{y_{1, 0}}, p_{13, 0}\\right)\\end{matrix}\\right]$"
      ],
      "text/plain": [
       "Matrix([\n",
       "[          (1 - y[0, 0]/p[3, 0])*p[4, 0]*p[5, 0]*p[6, 0] - (1 - y[3, 0]/p[7, 0])*p[8, 0]*y[0, 0]*y[2, 0] - p[0, 0]*y[0, 0]*y[1, 0]],\n",
       "[                                                             -p[0, 0]*p[11, 0]*y[0, 0]*y[1, 0] + p[2, 0]*p[12, 0]*y[4, 0]*y[5, 0]],\n",
       "[Piecewise(((1 - y[2, 0])*p[10, 0], p[9, 0] < (1 - y[0, 0]/p[3, 0])*p[4, 0]*p[5, 0]*p[6, 0] - p[0, 0]*y[0, 0]*y[1, 0]), (0, True))],\n",
       "[                                                                  (1 - y[3, 0]/p[7, 0])*p[8, 0]*y[0, 0]*y[2, 0] - p[1, 0]*y[3, 0]],\n",
       "[                                                              p[0, 0]*p[11, 0]*y[0, 0]*y[1, 0] - p[2, 0]*p[12, 0]*y[4, 0]*y[5, 0]],\n",
       "[                                                                            (1 - y[5, 0])*p[14, 0]*Min(y[4, 0]/y[1, 0], p[13, 0])]])"
      ]
     },
     "execution_count": 9,
     "metadata": {},
     "output_type": "execute_result"
    }
   ],
   "source": [
    "om.kinetics"
   ]
  },
  {
   "cell_type": "code",
   "execution_count": 10,
   "id": "372acdf7",
   "metadata": {},
   "outputs": [
    {
     "data": {
      "text/latex": [
       "$\\displaystyle \\left[\\begin{matrix}- E_{PSII} NADPp v_{ETR} - E_{PSII} P_{NPQ} v_{d} \\left(- \\frac{Q}{Q_{star}} + 1\\right) + PAR \\alpha c_{in} \\left(- \\frac{E_{PSII}}{E_{PSII star}} + 1\\right)\\\\- E_{PSII} NADPp \\eta_{NADPp} v_{ETR} + NADPH R \\eta_{NADPH} v_{C}\\\\\\begin{cases} v_{p} \\left(1 - P_{NPQ}\\right) & \\text{for}\\: c_{y} < - E_{PSII} NADPp v_{ETR} + PAR \\alpha c_{in} \\left(- \\frac{E_{PSII}}{E_{PSII star}} + 1\\right) \\\\0 & \\text{otherwise} \\end{cases}\\\\E_{PSII} P_{NPQ} v_{d} \\left(- \\frac{Q}{Q_{star}} + 1\\right) - Q v_{NPQ}\\\\E_{PSII} NADPp \\eta_{NADPp} v_{ETR} - NADPH R \\eta_{NADPH} v_{C}\\\\v_{R} \\left(1 - R\\right) \\min\\left(d, \\frac{NADPH}{NADPp}\\right)\\end{matrix}\\right]$"
      ],
      "text/plain": [
       "Matrix([\n",
       "[            -E_PSII*NADPp*v_ETR - E_PSII*P_NPQ*v_d*(-Q/Q_star + 1) + PAR*alpha*c_in*(-E_PSII/E_PSII_star + 1)],\n",
       "[                                                        -E_PSII*NADPp*eta_NADPp*v_ETR + NADPH*R*eta_NADPH*v_C],\n",
       "[Piecewise((v_p*(1 - P_NPQ), c_y < -E_PSII*NADPp*v_ETR + PAR*alpha*c_in*(-E_PSII/E_PSII_star + 1)), (0, True))],\n",
       "[                                                                   E_PSII*P_NPQ*v_d*(-Q/Q_star + 1) - Q*v_NPQ],\n",
       "[                                                         E_PSII*NADPp*eta_NADPp*v_ETR - NADPH*R*eta_NADPH*v_C],\n",
       "[                                                                              v_R*(1 - R)*Min(d, NADPH/NADPp)]])"
      ]
     },
     "execution_count": 10,
     "metadata": {},
     "output_type": "execute_result"
    }
   ],
   "source": [
    "om.get_interpretable_kinetics()"
   ]
  },
  {
   "cell_type": "code",
   "execution_count": 11,
   "id": "852ab828",
   "metadata": {},
   "outputs": [
    {
     "data": {
      "text/plain": [
       "({'E_PSII': 0, 'NADPp': 1, 'P_NPQ': 2, 'Q': 3, 'NADPH': 4, 'R': 5},\n",
       " {'ETR': 0, 'NPQ': 1, 'A': 2})"
      ]
     },
     "execution_count": 11,
     "metadata": {},
     "output_type": "execute_result"
    }
   ],
   "source": [
    "om.vmap, om.observable_map"
   ]
  },
  {
   "cell_type": "code",
   "execution_count": 12,
   "id": "5cbe26d2",
   "metadata": {},
   "outputs": [],
   "source": [
    "ts = numpy.linspace(0,60,1000)\n",
    "res = simulate_ode_model(om, times=ts, with_observables=True)"
   ]
  },
  {
   "cell_type": "code",
   "execution_count": 13,
   "id": "85d7a9dd",
   "metadata": {
    "scrolled": true
   },
   "outputs": [
    {
     "data": {
      "text/plain": [
       "<matplotlib.legend.Legend at 0x12db71150>"
      ]
     },
     "execution_count": 13,
     "metadata": {},
     "output_type": "execute_result"
    },
    {
     "data": {
      "image/png": "[encoded data removed]",
      "text/plain": [
       "<Figure size 1000x300 with 1 Axes>"
      ]
     },
     "metadata": {},
     "output_type": "display_data"
    }
   ],
   "source": [
    "import matplotlib.pyplot as plt\n",
    "plt.figure(figsize=(10, 3))\n",
    "plt.plot(ts, res[:, 6:], label=list(om.observable_map.keys()))\n",
    "plt.ylim([0, 100])\n",
    "plt.legend()"
   ]
  },
  {
   "cell_type": "code",
   "execution_count": 14,
   "id": "9bd0d939",
   "metadata": {},
   "outputs": [],
   "source": [
    "pj = template_model_to_petrinet_json(tm)\n",
    "with open('climate_scenario5_petri.json', 'w') as fh:\n",
    "    json.dump(pj, fh, indent=1)"
   ]
  }
 ],
 "metadata": {
  "kernelspec": {
   "display_name": "Python 3 (ipykernel)",
   "language": "python",
   "name": "python3"
  },
  "language_info": {
   "codemirror_mode": {
    "name": "ipython",
    "version": 3
   },
   "file_extension": ".py",
   "mimetype": "text/x-python",
   "name": "python",
   "nbconvert_exporter": "python",
   "pygments_lexer": "ipython3",
   "version": "3.10.13"
  }
 },
 "nbformat": 4,
 "nbformat_minor": 5
}
